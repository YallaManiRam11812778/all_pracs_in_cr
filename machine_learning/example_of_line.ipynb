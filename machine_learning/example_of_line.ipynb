{
 "cells": [
  {
   "cell_type": "code",
   "execution_count": 5,
   "metadata": {},
   "outputs": [
    {
     "name": "stdout",
     "output_type": "stream",
     "text": [
      "..............................................................\n",
      "..............................................................\n",
      "..............................................................\n",
      "..............................................................\n",
      "..............................................................\n",
      "..............................................................\n",
      "..............................................................\n",
      "..............................................................\n",
      "llllllllllllllllllll\n"
     ]
    }
   ],
   "source": [
    "import os\n",
    "from tensorflow.keras import layers, models\n",
    "import cv2\n",
    "import numpy as np\n",
    "import tensorflow as tf\n",
    "\n",
    "# os.listdir(\"/home/caratred/AUTOCAD/images.jpg\")\n",
    "ROOT_DIR = \"/home/caratred/AUTOCAD\"\n",
    "# /home/caratred/AUTOCAD/images.jpg\n",
    "\n",
    "number_of_images = {} \n",
    "os.listdir(ROOT_DIR)\n",
    "for dir in os.listdir(ROOT_DIR):\n",
    "  print(\"..............................................................\")\n",
    "  joined = os.path.join(ROOT_DIR, dir)\n",
    "  if os.path.isdir(joined):\n",
    "    print(\"llllllllllllllllllll\")\n",
    "    number_of_images[dir] = len(os.listdir(joined)) \n"
   ]
  },
  {
   "cell_type": "code",
   "execution_count": 6,
   "metadata": {},
   "outputs": [
    {
     "ename": "FileNotFoundError",
     "evalue": "[Errno 2] No such file or directory: 'images.jpg'",
     "output_type": "error",
     "traceback": [
      "\u001b[0;31m---------------------------------------------------------------------------\u001b[0m",
      "\u001b[0;31mFileNotFoundError\u001b[0m                         Traceback (most recent call last)",
      "Cell \u001b[0;32mIn[6], line 24\u001b[0m\n\u001b[1;32m     21\u001b[0m test_dir \u001b[38;5;241m=\u001b[39m \u001b[38;5;124m'\u001b[39m\u001b[38;5;124m1dce11e7-dd7c-4a6b-9dfe-41cb8bfab9a3_cp1.jpg\u001b[39m\u001b[38;5;124m'\u001b[39m  \u001b[38;5;66;03m# Update with your directorys\u001b[39;00m\n\u001b[1;32m     23\u001b[0m \u001b[38;5;66;03m# Load training and testing data\u001b[39;00m\n\u001b[0;32m---> 24\u001b[0m X_train, y_train \u001b[38;5;241m=\u001b[39m load_data_from_directory(train_dir)\n\u001b[1;32m     25\u001b[0m X_test, y_test \u001b[38;5;241m=\u001b[39m load_data_from_directory(test_dir)\n\u001b[1;32m     27\u001b[0m \u001b[38;5;66;03m# Normalize pixel values to range [0, 1]\u001b[39;00m\n",
      "Cell \u001b[0;32mIn[6], line 5\u001b[0m, in \u001b[0;36mload_data_from_directory\u001b[0;34m(directory)\u001b[0m\n\u001b[1;32m      3\u001b[0m images \u001b[38;5;241m=\u001b[39m []\n\u001b[1;32m      4\u001b[0m lengths \u001b[38;5;241m=\u001b[39m []\n\u001b[0;32m----> 5\u001b[0m \u001b[38;5;28;01mfor\u001b[39;00m filename \u001b[38;5;129;01min\u001b[39;00m os\u001b[38;5;241m.\u001b[39mlistdir(directory):\n\u001b[1;32m      6\u001b[0m     \u001b[38;5;28mprint\u001b[39m(filename,\u001b[38;5;124m\"\u001b[39m\u001b[38;5;124m//////////////////\u001b[39m\u001b[38;5;124m\"\u001b[39m)\n\u001b[1;32m      7\u001b[0m     \u001b[38;5;28;01mif\u001b[39;00m filename\u001b[38;5;241m.\u001b[39mendswith(\u001b[38;5;124m\"\u001b[39m\u001b[38;5;124m.jpg\u001b[39m\u001b[38;5;124m\"\u001b[39m) \u001b[38;5;129;01mor\u001b[39;00m filename\u001b[38;5;241m.\u001b[39mendswith(\u001b[38;5;124m\"\u001b[39m\u001b[38;5;124m.png\u001b[39m\u001b[38;5;124m\"\u001b[39m):\n",
      "\u001b[0;31mFileNotFoundError\u001b[0m: [Errno 2] No such file or directory: 'images.jpg'"
     ]
    }
   ],
   "source": [
    "\n",
    "# Function to load images and their corresponding lengths from a directory\n",
    "def load_data_from_directory(directory):\n",
    "    images = []\n",
    "    lengths = []\n",
    "    for filename in os.listdir(directory):\n",
    "        print(filename,\"//////////////////\")\n",
    "        if filename.endswith(\".jpg\") or filename.endswith(\".png\"):\n",
    "            image_path = os.path.join(directory, filename)\n",
    "            img = cv2.imread(image_path, cv2.IMREAD_GRAYSCALE)\n",
    "            img = cv2.resize(img, (28, 28))  # Resize images to 28x28\n",
    "            images.append(img)\n",
    "            \n",
    "            # Extract length from the filename (assuming filename format like \"10cm_image.jpg\")\n",
    "            length_str = filename.split(\"_\")[0]\n",
    "            length = int(length_str.replace(\"cm\", \"\"))\n",
    "            lengths.append(length)\n",
    "    return np.array(images), np.array(lengths)\n",
    "\n",
    "# Directory containing images and their corresponding lengths\n",
    "train_dir = 'images.jpg'  # Update with your directorya\n",
    "test_dir = '1dce11e7-dd7c-4a6b-9dfe-41cb8bfab9a3_cp1.jpg'  # Update with your directorys\n",
    "\n",
    "# Load training and testing data\n",
    "X_train, y_train = load_data_from_directory(train_dir)\n",
    "X_test, y_test = load_data_from_directory(test_dir)\n",
    "\n",
    "# Normalize pixel values to range [0, 1]\n",
    "X_train = X_train.astype('float32') / 255.0\n",
    "X_test = X_test.astype('float32') / 255.0\n",
    "\n",
    "# Define the CNN model architecture\n",
    "model = models.Sequential([\n",
    "    layers.Conv2D(32, (3, 3), activation='relu', input_shape=(28, 28, 1)),\n",
    "    layers.MaxPooling2D((2, 2)),\n",
    "    layers.Conv2D(64, (3, 3), activation='relu'),\n",
    "    layers.MaxPooling2D((2, 2)),\n",
    "    layers.Flatten(),\n",
    "    layers.Dense(128, activation='relu'),\n",
    "    layers.Dense(1)  # Output layer for regression\n",
    "])\n",
    "\n",
    "# Compile the model\n",
    "model.compile(optimizer='adam', loss='mean_squared_error', metrics=['mae'])\n",
    "\n",
    "# Train the model\n",
    "model.fit(X_train, y_train, epochs=10, batch_size=32, validation_split=0.2)\n",
    "\n",
    "# Evaluate the model on test data\n",
    "loss, mae = model.evaluate(X_test, y_test)\n",
    "print(f'Test loss: {loss}, Test MAE: {mae}')\n",
    "\n",
    "# Example prediction from a file\n",
    "example_image_path = '/home/caratred/Downloads/original_Line_segment_10_cm.png'  # Update with your image path\n",
    "example_img = cv2.imread(example_image_path, cv2.IMREAD_GRAYSCALE)\n",
    "example_img = cv2.resize(example_img, (28, 28))  # Resize image to 28x28\n",
    "example_img = example_img.astype('float32') / 255.0  # Normalize pixel values\n",
    "example_img = np.expand_dims(example_img, axis=0)  # Add batch dimension\n",
    "\n",
    "predicted_length = model.predict(example_img)[0][0]\n",
    "print(f'Predicted length: {predicted_length} cm')\n"
   ]
  },
  {
   "cell_type": "code",
   "execution_count": 9,
   "metadata": {},
   "outputs": [
    {
     "name": "stdout",
     "output_type": "stream",
     "text": [
      "Re aa eas comme teray nee\n",
      "\n",
      "ie ee\n",
      "\n",
      "eae Eee Ee rr Os Ie\n",
      "\n",
      "a ee\n",
      "5 NSS ee ng Gear en Geng On Ze eee\n",
      "poe ee SPIE IR eared\n",
      "Sige cep Nee de SN ce\n",
      "Sie gen res pre a ie as are ORE, ors 5 LN oe o\n",
      "eee inc oe  e ee\n",
      "PRIN. ee\n",
      "aa See ee er ee oes\n",
      "ee co gg Ee\n",
      "es eee ere as See Det ional eel css oe\n",
      "Heras Meee RES saat eae Cerne ees Se\n",
      "Oe eas Gams a ee\n",
      "pos See\n",
      "Ea ee? Ve ae cee ee\n",
      "ee ee Se ee os pele ee OE\n",
      "_ Rom. Co\n",
      "fe a esa lac ae Sse ee ee\n",
      "Ree eh eng ES ea oe\n",
      "PA, rs ee iatven bell ee See\n",
      "\f\n"
     ]
    }
   ],
   "source": [
    "image_path = '/home/caratred/Downloads/pos_checks_images/pos_checks_images/cropped/pos-@2024-03-01@20240320115737950dwt.png'\n",
    "import cv2\n",
    "import pytesseract\n",
    "\n",
    "# Load the image from the file\n",
    "image = cv2.imread(image_path)\n",
    "\n",
    "# Convert the image to grayscale\n",
    "gray_image = cv2.cvtColor(image, cv2.COLOR_BGR2GRAY)\n",
    "\n",
    "# Apply OCR to extract text from the image\n",
    "extracted_text = pytesseract.image_to_string(gray_image)\n",
    "\n",
    "print(extracted_text)\n"
   ]
  }
 ],
 "metadata": {
  "kernelspec": {
   "display_name": "socketio",
   "language": "python",
   "name": "python3"
  },
  "language_info": {
   "codemirror_mode": {
    "name": "ipython",
    "version": 3
   },
   "file_extension": ".py",
   "mimetype": "text/x-python",
   "name": "python",
   "nbconvert_exporter": "python",
   "pygments_lexer": "ipython3",
   "version": "3.12.3"
  }
 },
 "nbformat": 4,
 "nbformat_minor": 2
}
