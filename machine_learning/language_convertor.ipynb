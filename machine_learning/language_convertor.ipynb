{
 "cells": [
  {
   "cell_type": "code",
   "execution_count": 1,
   "metadata": {},
   "outputs": [],
   "source": [
    "import pandas as pd"
   ]
  },
  {
   "cell_type": "code",
   "execution_count": 2,
   "metadata": {},
   "outputs": [],
   "source": [
    "# df = pd.read_excel(\"/home/caratred/Documents/japan text.xlsx\")\n",
    "df = pd.read_excel(\"/home/caratred/Documents/south korea translated.xlsx\")"
   ]
  },
  {
   "cell_type": "code",
   "execution_count": 3,
   "metadata": {},
   "outputs": [],
   "source": [
    "from googletrans import Translator\n",
    "\n",
    "# Initialize the translator\n",
    "translator = Translator()\n",
    "def translate_sentence(sentence):\n",
    "    sentence = sentence.strip()\n",
    "    translation = translator.translate(sentence, src='ko', dest='en') #japanese = ja, thai = th, korean = ko\n",
    "    return translation.text\n",
    "\n",
    "# Use map to translate the list of sentences\n",
    "df[\"Supplier name translated\"] = df.apply(lambda x: translate_sentence(x['Supplier name']), axis=1)\n",
    "df[\"Product name Translated\"] = df.apply(lambda x: translate_sentence(x[\"Product name\"]), axis=1)\n",
    "df.to_excel(\"Combination of google tranlator and Azure Translated_korean_sheet.xlsx\",index=False)"
   ]
  },
  {
   "cell_type": "code",
   "execution_count": 35,
   "metadata": {},
   "outputs": [
    {
     "name": "stdout",
     "output_type": "stream",
     "text": [
      "{'new_ke': 'new_value', 'new_key': 'new_value'}\n"
     ]
    }
   ],
   "source": [
    "import json\n",
    "\n",
    "a_dict = {'new_ky': 'new_value'}\n",
    "\n",
    "with open('/home/caratred/Documents/ram/test/machine_learning/south_korea_json.json',\"rb\") as file:\n",
    "    # print(file,\"$\"*100)\n",
    "    if file:\n",
    "        data = json.load(file)\n",
    "        print(data)\n",
    "\n",
    "data.update(a_dict)\n",
    "\n",
    "with open('/home/caratred/Documents/ram/test/machine_learning/south_korea_json.json', 'w') as f:\n",
    "    json.dump(data, f)"
   ]
  },
  {
   "cell_type": "code",
   "execution_count": 44,
   "metadata": {},
   "outputs": [
    {
     "name": "stdout",
     "output_type": "stream",
     "text": [
      "The strings match.\n"
     ]
    }
   ],
   "source": [
    "import re\n",
    "\n",
    "# Example Thai strings\n",
    "string1 = \"พิมพ์ Inkjet 4 สี เคลือบด้าน ขนาด 23x 125 cm. ติดบน ฟิวเจอร์บอร์ด หนา 5 มิล\"\n",
    "string2 = \" พิมพ์ Inkjet 4 สี เคลือบด้าน ขนาด 23x125cm. ติดบน ฟิวเจอร์บอร์ด หนา 5 มิล\"\n",
    "\n",
    "# Normalize the strings by removing spaces and periods for comparison\n",
    "normalized_string1 = re.sub(r'\\s+|\\.', '', string1)\n",
    "normalized_string2 = re.sub(r'\\s+|\\.', '', string2)\n",
    "\n",
    "# Compare the normalized strings\n",
    "if normalized_string1 == normalized_string2:\n",
    "    print(\"The strings match.\")\n",
    "else:\n",
    "    print(\"The strings do not match.\")"
   ]
  }
 ],
 "metadata": {
  "kernelspec": {
   "display_name": "py311",
   "language": "python",
   "name": "python3"
  },
  "language_info": {
   "codemirror_mode": {
    "name": "ipython",
    "version": 3
   },
   "file_extension": ".py",
   "mimetype": "text/x-python",
   "name": "python",
   "nbconvert_exporter": "python",
   "pygments_lexer": "ipython3",
   "version": "3.10.0"
  }
 },
 "nbformat": 4,
 "nbformat_minor": 2
}
