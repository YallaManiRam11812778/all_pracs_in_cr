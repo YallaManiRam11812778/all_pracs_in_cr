{
 "cells": [
  {
   "cell_type": "code",
   "execution_count": 1,
   "metadata": {},
   "outputs": [
    {
     "name": "stderr",
     "output_type": "stream",
     "text": [
      "/home/caratred/anaconda3/envs/py310/lib/python3.10/site-packages/torch/cuda/__init__.py:619: UserWarning: Can't initialize NVML\n",
      "  warnings.warn(\"Can't initialize NVML\")\n",
      "/home/caratred/anaconda3/envs/py310/lib/python3.10/site-packages/torch/cuda/__init__.py:749: UserWarning: CUDA initialization: The NVIDIA driver on your system is too old (found version 11040). Please update your GPU driver by downloading and installing a new version from the URL: http://www.nvidia.com/Download/index.aspx Alternatively, go to: https://pytorch.org to install a PyTorch version that has been compiled with your version of the CUDA driver. (Triggered internally at ../c10/cuda/CUDAFunctions.cpp:108.)\n",
      "  return torch._C._cuda_getDeviceCount() if nvml_count < 0 else nvml_count\n"
     ]
    }
   ],
   "source": [
    "# ner_with_annotationa.py\n",
    "import spacy\n",
    "import spacy.displacy\n",
    "from spacy.tokens import DocBin\n",
    "from tqdm import tqdm\n",
    "import json"
   ]
  },
  {
   "cell_type": "code",
   "execution_count": 3,
   "metadata": {},
   "outputs": [],
   "source": [
    "nlp = spacy.blank(\"en\") # load new spacy model\n",
    "db = DocBin() # create docbin object\n",
    "file = open('/home/caratred/Downloads/annotations (1).json')\n",
    "TRAINING_DATA = json.load(file)\n",
    "# check whether null values in json file if exists please remove."
   ]
  },
  {
   "cell_type": "code",
   "execution_count": 4,
   "metadata": {},
   "outputs": [
    {
     "name": "stderr",
     "output_type": "stream",
     "text": [
      "100%|██████████| 17/17 [00:00<00:00, 876.97it/s]\n"
     ]
    }
   ],
   "source": [
    "# error might occur due to null in between json file\n",
    "for text, annotation in tqdm(TRAINING_DATA[\"annotations\"]):\n",
    "    doc = nlp.make_doc(text)\n",
    "    entities = []\n",
    "    for start, end, label in annotation[\"entities\"]:\n",
    "        span = doc.char_span(start, end, label=label, alignment_mode=\"contract\")\n",
    "        if span is None:\n",
    "            print(\"Skipping entity\")\n",
    "        else:\n",
    "            entities.append(span)\n",
    "    doc.ents = entities\n",
    "    db.add(doc)\n",
    "db.to_disk(\"./training_data_spacy_TSTRM-01.spacy\")"
   ]
  },
  {
   "cell_type": "code",
   "execution_count": 5,
   "metadata": {},
   "outputs": [
    {
     "name": "stdout",
     "output_type": "stream",
     "text": [
      "/home/caratred/anaconda3/envs/py310/lib/python3.10/site-packages/torch/cuda/__init__.py:619: UserWarning: Can't initialize NVML\n",
      "  warnings.warn(\"Can't initialize NVML\")\n",
      "/home/caratred/anaconda3/envs/py310/lib/python3.10/site-packages/torch/cuda/__init__.py:749: UserWarning: CUDA initialization: The NVIDIA driver on your system is too old (found version 11040). Please update your GPU driver by downloading and installing a new version from the URL: http://www.nvidia.com/Download/index.aspx Alternatively, go to: https://pytorch.org to install a PyTorch version that has been compiled with your version of the CUDA driver. (Triggered internally at ../c10/cuda/CUDAFunctions.cpp:108.)\n",
      "  return torch._C._cuda_getDeviceCount() if nvml_count < 0 else nvml_count\n",
      "\u001b[38;5;4mℹ Saving to output directory: .\u001b[0m\n",
      "\u001b[38;5;4mℹ Using CPU\u001b[0m\n",
      "\u001b[1m\n",
      "=========================== Initializing pipeline ===========================\u001b[0m\n",
      "\u001b[38;5;2m✔ Initialized pipeline\u001b[0m\n",
      "\u001b[1m\n",
      "============================= Training pipeline =============================\u001b[0m\n",
      "\u001b[38;5;4mℹ Pipeline: ['tok2vec', 'ner']\u001b[0m\n",
      "\u001b[38;5;4mℹ Initial learn rate: 0.001\u001b[0m\n",
      "E    #       LOSS TOK2VEC  LOSS NER  ENTS_F  ENTS_P  ENTS_R  SCORE \n",
      "---  ------  ------------  --------  ------  ------  ------  ------\n",
      "  0       0          0.00     41.70    0.00    0.00    0.00    0.00\n",
      " 13     200          3.16    626.12  100.00  100.00  100.00    1.00\n",
      " 28     400          0.00      0.00  100.00  100.00  100.00    1.00\n",
      " 47     600          0.00      0.00  100.00  100.00  100.00    1.00\n",
      " 73     800          0.00      0.00  100.00  100.00  100.00    1.00\n",
      "104    1000          0.00      0.00  100.00  100.00  100.00    1.00\n",
      "144    1200          0.00      0.00  100.00  100.00  100.00    1.00\n",
      "194    1400          0.00      0.00  100.00  100.00  100.00    1.00\n",
      "256    1600          0.00      0.00  100.00  100.00  100.00    1.00\n",
      "325    1800          0.00      0.00  100.00  100.00  100.00    1.00\n",
      "\u001b[38;5;2m✔ Saved pipeline to output directory\u001b[0m\n",
      "model-last\n"
     ]
    }
   ],
   "source": [
    "!python -m spacy train /home/caratred/Documents/ram/test/NLP/config.cfg --output ./ --paths.train ./training_data_spacy_TSTRM-01.spacy --paths.dev ./training_data_spacy_TSTRM-01.spacy"
   ]
  },
  {
   "cell_type": "code",
   "execution_count": 10,
   "metadata": {},
   "outputs": [
    {
     "name": "stdout",
     "output_type": "stream",
     "text": [
      "2 &&&&&&&&&&&&&&&&&&&&&&&&&&&&&&&&&&&&&&&&&&&&&&&&&&&&&&&&&&&&&&&&&&&&&&&&&&&&&&&&&&&&&&&&&&&&&&&&&&&& PAGE\n",
      "14619 &&&&&&&&&&&&&&&&&&&&&&&&&&&&&&&&&&&&&&&&&&&&&&&&&&&&&&&&&&&&&&&&&&&&&&&&&&&&&&&&&&&&&&&&&&&&&&&&&&&& CHK\n"
     ]
    }
   ],
   "source": [
    "nlp_ner = spacy.load(\"/home/caratred/Documents/ram/test/NLP/TSTRM-01/model-best\")\n",
    "doc = nlp_ner(\"\"\"HYATT REGENCY PUNE\tWeikfield IT Park, Pune 411014\tPh:+91 20 66451234\tZeta\t|\tCIN - U55101MH2005PTC154475\tTIN: 27510714800 GSTIN: 27AAFCA2878Q1ZY\tFSSAI License - 11516034000840\t@@GuestAddress\t4623772 Sadan Sharma\t2\tCHK 14619\tTBL 3/1\tGST 1\t6 Apr'25 13:23 PM\t1 Meta - e - Meta\t1275.00\t1 Lasagna di filetto\t1345.00\t1 Chao Fan\t550.00\t2 S Diet Coke\t400.00\t1 S Sprite can\t200.00\t2 Still Water\t580.00\t275.00\"\"\")\n",
    "# spacy.displacy.serve(doc, style=\"ent\",port=3000)\n",
    "# sentence_spans = list(doc.sents)\n",
    "for ent in doc.ents:\n",
    "    print(ent.text, \"&\"*100,ent.label_)"
   ]
  }
 ],
 "metadata": {
  "kernelspec": {
   "display_name": "py310",
   "language": "python",
   "name": "python3"
  },
  "language_info": {
   "codemirror_mode": {
    "name": "ipython",
    "version": 3
   },
   "file_extension": ".py",
   "mimetype": "text/x-python",
   "name": "python",
   "nbconvert_exporter": "python",
   "pygments_lexer": "ipython3",
   "version": "3.10.0"
  }
 },
 "nbformat": 4,
 "nbformat_minor": 2
}
